{
 "cells": [
  {
   "cell_type": "markdown",
   "metadata": {},
   "source": [
    "# OVERVIEW\n",
    "\n",
    "In this assignment, you will perform a supervised text regression task. The data for the task will consist of student essays from The William and Flora Hewlett Foundation. The dataset was created to assist in the design of solutions for automated grading of student-written essays. You will use a subset of this dataset and predict the scores of the essays. You may not use external data to make predictions. \n",
    "\n",
    "You will be provided with `training_set_rel.tsv` which contain the text of the essay and the score of each essay.\n",
    "\n"
   ]
  },
  {
   "cell_type": "markdown",
   "metadata": {},
   "source": [
    "# PART 1: SETUP"
   ]
  },
  {
   "cell_type": "markdown",
   "metadata": {},
   "source": [
    "### Q0: Run the following code! \n",
    "    \n",
    "For reproducibility purposes, you will set the random seeds for NumPy and TensorFlow as 1234.  This way, all random steps will produce the same answers.\n"
   ]
  },
  {
   "cell_type": "code",
   "execution_count": 8,
   "metadata": {},
   "outputs": [],
   "source": [
    "from numpy.random import seed\n",
    "\n",
    "import tensorflow as tf\n",
    "\n",
    "seed_value = 1234\n",
    "\n",
    "seed(seed_value)\n",
    "\n",
    "tf.random.set_seed(seed_value)\n"
   ]
  },
  {
   "cell_type": "markdown",
   "metadata": {},
   "source": [
    "### Q1: Load the data\n",
    "\n",
    "We will use data from the [automated essay scoring task](https://www.kaggle.com/c/asap-aes) on Kaggle.\n",
    "\n",
    "We will only use the training data, which we have provided for you -- you don't need to download anything from Kaggle.\n",
    "\n",
    "Access the file `training_set_rel.tsv` as provided.  \n",
    "\n",
    "Use the pandas function `read_csv`, with the parameter `sep=\\t` because this is a tab-separated value file (tsv) and `encoding=latin`. \n",
    "\n",
    "The columns are described on the [Kaggle site](https://www.kaggle.com/competitions/asap-aes/data)\n",
    "\n",
    "We will use three columns: `essay`, `essay_set`, and `domain1_score`.\n",
    "\n",
    "Create a new dataframe with only these three columns, and rename `domain1_score` to just `score`.\n",
    "\n",
    "Display this dataframe."
   ]
  },
  {
   "cell_type": "markdown",
   "metadata": {},
   "source": [
    "## Graded Cell\n",
    "\n",
    "This cell is worth 5% of the grade for this assignment."
   ]
  },
  {
   "cell_type": "code",
   "execution_count": 38,
   "metadata": {},
   "outputs": [
    {
     "data": {
      "text/html": [
       "<div>\n",
       "<style scoped>\n",
       "    .dataframe tbody tr th:only-of-type {\n",
       "        vertical-align: middle;\n",
       "    }\n",
       "\n",
       "    .dataframe tbody tr th {\n",
       "        vertical-align: top;\n",
       "    }\n",
       "\n",
       "    .dataframe thead th {\n",
       "        text-align: right;\n",
       "    }\n",
       "</style>\n",
       "<table border=\"1\" class=\"dataframe\">\n",
       "  <thead>\n",
       "    <tr style=\"text-align: right;\">\n",
       "      <th></th>\n",
       "      <th>essay</th>\n",
       "      <th>essay_set</th>\n",
       "      <th>score</th>\n",
       "    </tr>\n",
       "  </thead>\n",
       "  <tbody>\n",
       "    <tr>\n",
       "      <th>0</th>\n",
       "      <td>Dear local newspaper, I think effects computer...</td>\n",
       "      <td>1</td>\n",
       "      <td>8</td>\n",
       "    </tr>\n",
       "    <tr>\n",
       "      <th>1</th>\n",
       "      <td>Dear @CAPS1 @CAPS2, I believe that using compu...</td>\n",
       "      <td>1</td>\n",
       "      <td>9</td>\n",
       "    </tr>\n",
       "    <tr>\n",
       "      <th>2</th>\n",
       "      <td>Dear, @CAPS1 @CAPS2 @CAPS3 More and more peopl...</td>\n",
       "      <td>1</td>\n",
       "      <td>7</td>\n",
       "    </tr>\n",
       "    <tr>\n",
       "      <th>3</th>\n",
       "      <td>Dear Local Newspaper, @CAPS1 I have found that...</td>\n",
       "      <td>1</td>\n",
       "      <td>10</td>\n",
       "    </tr>\n",
       "    <tr>\n",
       "      <th>4</th>\n",
       "      <td>Dear @LOCATION1, I know having computers has a...</td>\n",
       "      <td>1</td>\n",
       "      <td>8</td>\n",
       "    </tr>\n",
       "    <tr>\n",
       "      <th>...</th>\n",
       "      <td>...</td>\n",
       "      <td>...</td>\n",
       "      <td>...</td>\n",
       "    </tr>\n",
       "    <tr>\n",
       "      <th>12971</th>\n",
       "      <td>In most stories mothers and daughters are eit...</td>\n",
       "      <td>8</td>\n",
       "      <td>35</td>\n",
       "    </tr>\n",
       "    <tr>\n",
       "      <th>12972</th>\n",
       "      <td>I never understood the meaning laughter is th...</td>\n",
       "      <td>8</td>\n",
       "      <td>32</td>\n",
       "    </tr>\n",
       "    <tr>\n",
       "      <th>12973</th>\n",
       "      <td>When you laugh, is @CAPS5 out of habit, or is ...</td>\n",
       "      <td>8</td>\n",
       "      <td>40</td>\n",
       "    </tr>\n",
       "    <tr>\n",
       "      <th>12974</th>\n",
       "      <td>Trippin' on fen...</td>\n",
       "      <td>8</td>\n",
       "      <td>40</td>\n",
       "    </tr>\n",
       "    <tr>\n",
       "      <th>12975</th>\n",
       "      <td>Many people believe that laughter can improve...</td>\n",
       "      <td>8</td>\n",
       "      <td>40</td>\n",
       "    </tr>\n",
       "  </tbody>\n",
       "</table>\n",
       "<p>12976 rows × 3 columns</p>\n",
       "</div>"
      ],
      "text/plain": [
       "                                                   essay  essay_set  score\n",
       "0      Dear local newspaper, I think effects computer...          1      8\n",
       "1      Dear @CAPS1 @CAPS2, I believe that using compu...          1      9\n",
       "2      Dear, @CAPS1 @CAPS2 @CAPS3 More and more peopl...          1      7\n",
       "3      Dear Local Newspaper, @CAPS1 I have found that...          1     10\n",
       "4      Dear @LOCATION1, I know having computers has a...          1      8\n",
       "...                                                  ...        ...    ...\n",
       "12971   In most stories mothers and daughters are eit...          8     35\n",
       "12972   I never understood the meaning laughter is th...          8     32\n",
       "12973  When you laugh, is @CAPS5 out of habit, or is ...          8     40\n",
       "12974                                 Trippin' on fen...          8     40\n",
       "12975   Many people believe that laughter can improve...          8     40\n",
       "\n",
       "[12976 rows x 3 columns]"
      ]
     },
     "execution_count": 38,
     "metadata": {},
     "output_type": "execute_result"
    }
   ],
   "source": [
    "import pandas as pd\n",
    "# Reading the TSV file\n",
    "df = pd.read_csv('training_set_rel.tsv', sep='\\t', encoding='latin')\n",
    "\n",
    "# Selecting only the required columns\n",
    "df = df[['essay', 'essay_set', 'domain1_score']]\n",
    "\n",
    "# Renaming domain1_score to score\n",
    "new_df = df.rename(columns={'domain1_score': 'score'})\n",
    "\n",
    "# Displaying the dataframe\n",
    "new_df\n",
    "\n"
   ]
  },
  {
   "cell_type": "markdown",
   "metadata": {},
   "source": [
    "### Q2: Select the data from a single essay set\n",
    "\n",
    "There are 8 totally unrelated essay sets in this data.\n",
    "\n",
    "Filter the data frame so we are only considering essay_set = 7"
   ]
  },
  {
   "cell_type": "markdown",
   "metadata": {},
   "source": [
    "## Graded Cell\n",
    "\n",
    "This cell is worth 5% of the grade for this assignment."
   ]
  },
  {
   "cell_type": "code",
   "execution_count": 10,
   "metadata": {},
   "outputs": [
    {
     "data": {
      "text/html": [
       "<div>\n",
       "<style scoped>\n",
       "    .dataframe tbody tr th:only-of-type {\n",
       "        vertical-align: middle;\n",
       "    }\n",
       "\n",
       "    .dataframe tbody tr th {\n",
       "        vertical-align: top;\n",
       "    }\n",
       "\n",
       "    .dataframe thead th {\n",
       "        text-align: right;\n",
       "    }\n",
       "</style>\n",
       "<table border=\"1\" class=\"dataframe\">\n",
       "  <thead>\n",
       "    <tr style=\"text-align: right;\">\n",
       "      <th></th>\n",
       "      <th>essay</th>\n",
       "      <th>essay_set</th>\n",
       "      <th>score</th>\n",
       "    </tr>\n",
       "  </thead>\n",
       "  <tbody>\n",
       "    <tr>\n",
       "      <th>10684</th>\n",
       "      <td>Patience is when your waiting .I was patience ...</td>\n",
       "      <td>7</td>\n",
       "      <td>15</td>\n",
       "    </tr>\n",
       "    <tr>\n",
       "      <th>10685</th>\n",
       "      <td>I am not a patience person, like I cant sit i...</td>\n",
       "      <td>7</td>\n",
       "      <td>13</td>\n",
       "    </tr>\n",
       "    <tr>\n",
       "      <th>10686</th>\n",
       "      <td>One day I was at basketball practice and I was...</td>\n",
       "      <td>7</td>\n",
       "      <td>15</td>\n",
       "    </tr>\n",
       "    <tr>\n",
       "      <th>10687</th>\n",
       "      <td>I going to write about a time when I went to t...</td>\n",
       "      <td>7</td>\n",
       "      <td>17</td>\n",
       "    </tr>\n",
       "    <tr>\n",
       "      <th>10688</th>\n",
       "      <td>It can be very hard for somebody to be patient...</td>\n",
       "      <td>7</td>\n",
       "      <td>13</td>\n",
       "    </tr>\n",
       "    <tr>\n",
       "      <th>...</th>\n",
       "      <td>...</td>\n",
       "      <td>...</td>\n",
       "      <td>...</td>\n",
       "    </tr>\n",
       "    <tr>\n",
       "      <th>12248</th>\n",
       "      <td>One time I was getting a cool @CAPS1 game it w...</td>\n",
       "      <td>7</td>\n",
       "      <td>12</td>\n",
       "    </tr>\n",
       "    <tr>\n",
       "      <th>12249</th>\n",
       "      <td>A patent person in my life is my mom. Aicason ...</td>\n",
       "      <td>7</td>\n",
       "      <td>16</td>\n",
       "    </tr>\n",
       "    <tr>\n",
       "      <th>12250</th>\n",
       "      <td>A time when someone else I know was patient wa...</td>\n",
       "      <td>7</td>\n",
       "      <td>19</td>\n",
       "    </tr>\n",
       "    <tr>\n",
       "      <th>12251</th>\n",
       "      <td>I hate weddings. I love when people get marrie...</td>\n",
       "      <td>7</td>\n",
       "      <td>22</td>\n",
       "    </tr>\n",
       "    <tr>\n",
       "      <th>12252</th>\n",
       "      <td>A few weeks ago, we had a garage sale and a mo...</td>\n",
       "      <td>7</td>\n",
       "      <td>15</td>\n",
       "    </tr>\n",
       "  </tbody>\n",
       "</table>\n",
       "<p>1569 rows × 3 columns</p>\n",
       "</div>"
      ],
      "text/plain": [
       "                                                   essay  essay_set  score\n",
       "10684  Patience is when your waiting .I was patience ...          7     15\n",
       "10685  I am not a patience person, like I cant sit i...          7     13\n",
       "10686  One day I was at basketball practice and I was...          7     15\n",
       "10687  I going to write about a time when I went to t...          7     17\n",
       "10688  It can be very hard for somebody to be patient...          7     13\n",
       "...                                                  ...        ...    ...\n",
       "12248  One time I was getting a cool @CAPS1 game it w...          7     12\n",
       "12249  A patent person in my life is my mom. Aicason ...          7     16\n",
       "12250  A time when someone else I know was patient wa...          7     19\n",
       "12251  I hate weddings. I love when people get marrie...          7     22\n",
       "12252  A few weeks ago, we had a garage sale and a mo...          7     15\n",
       "\n",
       "[1569 rows x 3 columns]"
      ]
     },
     "execution_count": 10,
     "metadata": {},
     "output_type": "execute_result"
    }
   ],
   "source": [
    "# Selecting the essay set by filtering for essay_set 7\n",
    "new_df = new_df[new_df['essay_set'] == 7]\n",
    "\n",
    "# Displaying the filtered dataframe\n",
    "new_df"
   ]
  },
  {
   "cell_type": "markdown",
   "metadata": {},
   "source": [
    "### Q3: Plot the distribution of scores\n",
    "\n",
    "Create a plot of a histogram of the scores in the training set.  Comment on what you see.  \n",
    "\n",
    "One option is to use the seaborn histplot function.  If you use seaborn, you can use the parameter `bins` to set the bin locations if they look strange. The parameter accepts a list of explicit locations. If you want to center the bins on the tick marks, you cand do something like this:\n",
    "\n",
    "    bins=np.arange(minv,maxv)-0.5\n",
    "    \n",
    "where minv and maxv are the mininmum and maximum value in the range, respectively.   This expression indicates the number of possible scores, and that the tick marks should be at the halfway mark of each bar.\n",
    "\n",
    "You may use some other visualization library if you wish!   The goal is to inspect the distribution of scores.\n"
   ]
  },
  {
   "cell_type": "markdown",
   "metadata": {},
   "source": [
    "## Graded Cell\n",
    "\n",
    "This cell is worth 10% of the grade for this assignment."
   ]
  },
  {
   "cell_type": "code",
   "execution_count": 11,
   "metadata": {},
   "outputs": [
    {
     "data": {
      "image/png": "[encoded data removed]",
      "text/plain": [
       "<Figure size 640x480 with 1 Axes>"
      ]
     },
     "metadata": {},
     "output_type": "display_data"
    }
   ],
   "source": [
    "import seaborn as sns\n",
    "import numpy as np\n",
    "import matplotlib.pyplot as plt\n",
    "\n",
    "# Getting min and max values for the bins\n",
    "minv = new_df['score'].min()\n",
    "maxv = new_df['score'].max() + 1  # Adding 1 to include the max value\n",
    "\n",
    "# Creating the histogram\n",
    "sns.histplot(data=new_df, x='score', bins=np.arange(minv, maxv) - 0.5)\n",
    "\n",
    "# Adding labels\n",
    "plt.xlabel('Score')\n",
    "plt.ylabel('Count')\n",
    "plt.title('Distribution of Essay Scores')\n",
    "\n",
    "# Displaying the plot\n",
    "plt.show()\n"
   ]
  },
  {
   "cell_type": "markdown",
   "metadata": {},
   "source": [
    "### Q4: Create a test/train split\n",
    "\n",
    "Use the function [`train_test_split`](https://scikit-learn.org/stable/modules/generated/sklearn.model_selection.train_test_split.html).  Use the `test_size` parameter to control the size of the test set; use 0.2 to indicate a 20% split."
   ]
  },
  {
   "cell_type": "markdown",
   "metadata": {},
   "source": [
    "## Graded Cell\n",
    "\n",
    "This cell is worth 5% of the grade for this assignment."
   ]
  },
  {
   "cell_type": "code",
   "execution_count": 12,
   "metadata": {},
   "outputs": [],
   "source": [
    "from sklearn.model_selection import train_test_split\n",
    "\n",
    "# Splitting the essays and scores into train and test sets\n",
    "X = new_df['essay']\n",
    "y = new_df['score']\n",
    "\n",
    "X_train, X_test, y_train, y_test = train_test_split(\n",
    "    X, y, \n",
    "    test_size=0.2,\n",
    "    random_state=seed_value  # for reproducibility\n",
    ")"
   ]
  },
  {
   "cell_type": "markdown",
   "metadata": {},
   "source": [
    "## Part 2: Conventional Representations"
   ]
  },
  {
   "cell_type": "markdown",
   "metadata": {},
   "source": [
    "### Q5: Create vectors using term frequency\n",
    "\n",
    "Use the `CountVectorizer` class from sklearn to create a vector for each essay.  We can't use text directly with machine learning; we need to create a vector of numbers first.  The CountVectorizer creates a vector with one position for each word in the corpus with a value of the number of occurrences of that word in the essay.\n",
    "\n",
    "The vectorizer works like a model in sklearn: call the fit method on the essay data to \"train\" a model on the training set.  In this situation, we aren't really training anything, but we need a corpus to define the vectors -- only the words in the corpus we use will be represented in the vector.  \n",
    "\n",
    "The fit method returns the trained model.  Now we can use the `transform` method to convert any text into a vector.\n",
    "\n",
    "Call the transform method on the training essays and the test essays to create variables `xtrain` and `xtest`.\n",
    "\n",
    "\n",
    "Report the number of dimensions for each vector; i.e., the number of terms in the corpus. \n"
   ]
  },
  {
   "cell_type": "markdown",
   "metadata": {},
   "source": [
    "## Graded Cell\n",
    "\n",
    "This cell is worth 10% of the grade for this assignment."
   ]
  },
  {
   "cell_type": "code",
   "execution_count": 13,
   "metadata": {},
   "outputs": [
    {
     "name": "stdout",
     "output_type": "stream",
     "text": [
      "Number of dimensions (terms in corpus): 8938\n",
      "Training set shape: (1255, 8938)\n",
      "Test set shape: (314, 8938)\n"
     ]
    }
   ],
   "source": [
    "from sklearn.feature_extraction.text import CountVectorizer\n",
    "\n",
    "# Creating and fitting the vectorizer on training data\n",
    "vectorizer = CountVectorizer()\n",
    "vectorizer = vectorizer.fit(X_train)\n",
    "\n",
    "# Transforming both training and test data\n",
    "xtrain = vectorizer.transform(X_train)\n",
    "xtest = vectorizer.transform(X_test)\n",
    "\n",
    "# Getting the number of dimensions (vocabulary size)\n",
    "n_dimensions = len(vectorizer.get_feature_names_out())\n",
    "print(f\"Number of dimensions (terms in corpus): {n_dimensions}\")\n",
    "\n",
    "# Showing the shape of the matrices\n",
    "print(f\"Training set shape: {xtrain.shape}\")\n",
    "print(f\"Test set shape: {xtest.shape}\")"
   ]
  },
  {
   "cell_type": "markdown",
   "metadata": {},
   "source": [
    "### Q6: Train a regression model using your vectors\n",
    "\n",
    "Now that we have vectors, we can train a regression model to predict the essay score.\n",
    "\n",
    "Use a [`Ridge`](https://scikit-learn.org/stable/modules/generated/sklearn.linear_model.Ridge.html) model from sklearn `linear_model` module.\n",
    "\n",
    "Call the fit method on your training data xtrain and ytrain.\n",
    "\n",
    "Then call the score method on your test data xtest and ytest.  The score method provides a default evaluation metric.  For the Ridge model, the score method returns $R^2$ which is called the coefficient of determination.  It tells you the proportion of the variation in the essay score is predictable from the essay text: higher is better.\n",
    "\n",
    "Report the coefficient of determination."
   ]
  },
  {
   "cell_type": "markdown",
   "metadata": {},
   "source": [
    "## Graded Cell\n",
    "\n",
    "This cell is worth 10% of the grade for this assignment."
   ]
  },
  {
   "cell_type": "code",
   "execution_count": 16,
   "metadata": {},
   "outputs": [
    {
     "name": "stdout",
     "output_type": "stream",
     "text": [
      "R² Score (Coefficient of Determination): 0.1538\n"
     ]
    }
   ],
   "source": [
    "from sklearn.linear_model import Ridge\n",
    "\n",
    "# Creating and training the Ridge regression model\n",
    "ridge_model = Ridge()\n",
    "ridge_model.fit(xtrain, y_train)\n",
    "\n",
    "# Calculating R² score on test data\n",
    "r2_score = ridge_model.score(xtest, y_test)\n",
    "print(f\"R² Score (Coefficient of Determination): {r2_score:.4f}\")"
   ]
  },
  {
   "cell_type": "markdown",
   "metadata": {},
   "source": [
    "### Q7: Plot the distribution of scores \n",
    "\n",
    "Plot a histogram of your predicted scores.\n",
    "\n",
    "Plot another histogram of the ground truth scores, superimposed on the first (using seaborn, just call the function again.)\n",
    "\n",
    "How is your model's distribution of scores different from the ground truth distribution?  Describe how they differ; what kind of mistakes is your model making?"
   ]
  },
  {
   "cell_type": "markdown",
   "metadata": {},
   "source": [
    "## Graded Cell\n",
    "\n",
    "This cell is worth 10% of the grade for this assignment."
   ]
  },
  {
   "cell_type": "code",
   "execution_count": 27,
   "metadata": {},
   "outputs": [
    {
     "data": {
      "image/png": "[encoded data removed]",
      "text/plain": [
       "<Figure size 1000x600 with 1 Axes>"
      ]
     },
     "metadata": {},
     "output_type": "display_data"
    }
   ],
   "source": [
    "import seaborn as sns\n",
    "import matplotlib.pyplot as plt\n",
    "import numpy as np\n",
    "\n",
    "# Getting predictions for test set\n",
    "y_pred = ridge_model.predict(xtest)\n",
    "\n",
    "# Getting min and max values across both distributions\n",
    "minv = min(min(y_test), min(y_pred))\n",
    "maxv = max(max(y_test), max(y_pred)) + 1\n",
    "\n",
    "plt.figure(figsize=(10, 6))\n",
    "\n",
    "# First histogram - Ground Truth Scores\n",
    "sns.histplot(data=y_test, bins=np.arange(minv, maxv) - 0.5, \n",
    "            alpha=1.0, \n",
    "            label='Actual Scores', \n",
    "            color='red',\n",
    "            binwidth=1.0, \n",
    "            stat='count')\n",
    "\n",
    "# Second histogram - Predicted Scores (overlaid)\n",
    "sns.histplot(data=y_pred, bins=np.arange(minv, maxv) - 0.5, \n",
    "            alpha=0.5, \n",
    "            label='Predicted Scores', \n",
    "            color='yellow',\n",
    "            binwidth=2.0, \n",
    "            stat='count')\n",
    "\n",
    "plt.xlabel('Score')\n",
    "plt.ylabel('Count')\n",
    "plt.title('Distribution of Predicted vs Actual Scores')\n",
    "plt.legend()\n",
    "\n",
    "plt.show()"
   ]
  },
  {
   "cell_type": "markdown",
   "id": "538b0955",
   "metadata": {},
   "source": [
    "\n",
    "\n",
    "Looking at the two histograms, we can see that our model plays it pretty safe with its predictions. While the real scores (in red) show more variety, our model's predictions (in blue) bunch up more in the middle range. This means it's not great at giving very high or very low scores - it tends to avoid the extremes.\n",
    "\n",
    "The model seems to be taking the \"safe\" route. This makes sense since it's only looking at which words appear in the essays, and isn't considering things like writing style or how well the arguments flow."
   ]
  },
  {
   "cell_type": "markdown",
   "metadata": {},
   "source": [
    "## Part 3: Neural Network Representations\n"
   ]
  },
  {
   "cell_type": "markdown",
   "metadata": {},
   "source": [
    "For this part, we will implement a deep sentence embedder to replace the feature selection process. As a first step, choose your model from Part 2.\n",
    "\n",
    "This time, you will obtain vectors by using a pre-trained neural network model called the Universal Sentence Encoder.  This model will produce a dense vector from any sequence of text. \n",
    "\n",
    "First, import the model with the following code.  This step will take considerable time -- it is downloading a large pre-trained model for the first time.\n"
   ]
  },
  {
   "cell_type": "code",
   "execution_count": 28,
   "metadata": {},
   "outputs": [],
   "source": [
    "import tensorflow_hub as hub\n",
    "\n",
    "module_url = \"https://tfhub.dev/google/universal-sentence-encoder/4\"\n",
    "\n",
    "model = hub.load(module_url)\n"
   ]
  },
  {
   "cell_type": "markdown",
   "metadata": {},
   "source": [
    "### Q8: Generate embeddings\n",
    "\n",
    "Next, you will embed the data with the imported model. The Universal Sentence Encoder takes a list of strings and generates an embedding (i.e., a vector) for each string. \n",
    "\n",
    "You can call the model you downloaded like a function. \n",
    "\n",
    "Generate a vector for each string in the training set; call this array xtrain.\n",
    "\n",
    "Also generate a vector for each string in the test set; call this array xtest.\n",
    "\n",
    "Notice how long this step takes -- it's a big model."
   ]
  },
  {
   "cell_type": "markdown",
   "metadata": {},
   "source": [
    "## Graded Cell\n",
    "\n",
    "This cell is worth 5% of the grade for this assignment."
   ]
  },
  {
   "cell_type": "code",
   "execution_count": 29,
   "metadata": {},
   "outputs": [
    {
     "name": "stdout",
     "output_type": "stream",
     "text": [
      "Training embeddings shape: (1255, 512)\n",
      "Test embeddings shape: (314, 512)\n"
     ]
    }
   ],
   "source": [
    "# Generating embeddings for training and test sets\n",
    "xtrain = model(X_train).numpy()\n",
    "xtest = model(X_test).numpy()\n",
    "\n",
    "# Printing the shapes of the embeddings\n",
    "print(f\"Training embeddings shape: {xtrain.shape}\")\n",
    "print(f\"Test embeddings shape: {xtest.shape}\")"
   ]
  },
  {
   "cell_type": "markdown",
   "metadata": {},
   "source": [
    "### Q9: Train and evaluate a regression model to predict scores using learned embeddings\n",
    "\n",
    "\n",
    "Now retrain your regression model on these learned embeddings instead of the count vectors.\n",
    "\n",
    "Use the vanilla Ridge model.  Report the score. \n",
    "\n",
    "Which model appears to perform the best?"
   ]
  },
  {
   "cell_type": "markdown",
   "metadata": {},
   "source": [
    "## Graded Cell\n",
    "\n",
    "This cell is worth 5% of the grade for this assignment."
   ]
  },
  {
   "cell_type": "code",
   "execution_count": 30,
   "metadata": {},
   "outputs": [
    {
     "name": "stdout",
     "output_type": "stream",
     "text": [
      "R² Score with Universal Sentence Encoder: 0.6286\n",
      "Previous R² Score with CountVectorizer: 0.1538\n"
     ]
    }
   ],
   "source": [
    "from sklearn.linear_model import Ridge\n",
    "\n",
    "# Creating and training the Ridge model with embeddings\n",
    "ridge_model_embeddings = Ridge()\n",
    "ridge_model_embeddings.fit(xtrain, y_train)\n",
    "\n",
    "# Calculating R² score\n",
    "r2_score_embeddings = ridge_model_embeddings.score(xtest, y_test)\n",
    "print(f\"R² Score with Universal Sentence Encoder: {r2_score_embeddings:.4f}\")\n",
    "\n",
    "# Comparing with previous CountVectorizer score\n",
    "print(f\"Previous R² Score with CountVectorizer: {r2_score:.4f}\")"
   ]
  },
  {
   "cell_type": "markdown",
   "id": "37cb8eeb",
   "metadata": {},
   "source": [
    "\n",
    "\n",
    "The Universal Sentence Encoder model clearly performs much better, with an R² score of 0.63 compared to just 0.15 for the word-counting approach. This means the neural network model is much better at understanding what makes a good essay, probably because it can grasp the meaning of sentences rather than just counting words."
   ]
  },
  {
   "cell_type": "markdown",
   "metadata": {},
   "source": [
    "### Q10: Plot the distribution of scores\n",
    "\n",
    "Once again, plot a histogram of your predicted scores from your new model.\n",
    "\n",
    "Plot another histogram of the ground truth scores.\n",
    "\n",
    "How is your new model's distribution of scores different from the ground truth distribution? Is it doing better than your earlier models?  How is it doing better?\n"
   ]
  },
  {
   "cell_type": "markdown",
   "metadata": {},
   "source": [
    "## Graded Cell\n",
    "\n",
    "This cell is worth 5% of the grade for this assignment."
   ]
  },
  {
   "cell_type": "code",
   "execution_count": 34,
   "metadata": {},
   "outputs": [
    {
     "data": {
      "image/png": "[encoded data removed]",
      "text/plain": [
       "<Figure size 1000x600 with 1 Axes>"
      ]
     },
     "metadata": {},
     "output_type": "display_data"
    }
   ],
   "source": [
    "import seaborn as sns\n",
    "import matplotlib.pyplot as plt\n",
    "import numpy as np\n",
    "\n",
    "# Getting predictions from the embeddings model\n",
    "y_pred = ridge_model_embeddings.predict(xtest)\n",
    "\n",
    "# Getting min and max values across both distributions\n",
    "minv = min(min(y_test), min(y_pred))\n",
    "maxv = max(max(y_test), max(y_pred)) + 1\n",
    "\n",
    "plt.figure(figsize=(10, 6))\n",
    "\n",
    "# First histogram - Ground Truth Scores\n",
    "sns.histplot(data=y_test, bins=np.arange(minv, maxv) - 0.5, \n",
    "            alpha=1.0, \n",
    "            label='Actual Scores', \n",
    "            color='red',\n",
    "            binwidth=1.0, \n",
    "            stat='count')\n",
    "\n",
    "# Second histogram - Predicted Scores (overlaid)\n",
    "sns.histplot(data=y_pred, bins=np.arange(minv, maxv) - 0.5, \n",
    "            alpha=0.5, \n",
    "            label='Predicted Scores', \n",
    "            color='yellow',\n",
    "            binwidth=2.0, \n",
    "            stat='count')\n",
    "\n",
    "plt.xlabel('Score')\n",
    "plt.ylabel('Count')\n",
    "plt.title('Distribution of Predicted vs Actual Scores')\n",
    "plt.legend()\n",
    "\n",
    "plt.show()"
   ]
  },
  {
   "cell_type": "markdown",
   "metadata": {},
   "source": [
    "### Q11: Plot the errors\n",
    "\n",
    "We will analyze the difference between the neural model and your best conventional model.\n",
    "\n",
    "Plot the distribution of errors -- see where the two models made mistakes.\n",
    "\n",
    "The errors are your model's predicted score minus the ground truth human score.\n",
    "\n",
    "Plot a boxplot of the errors for your model using the universal sentence encoder.  Use the seaborn histplot function. \n",
    "\n",
    "x will be the ground truth scores and y is the difference between ground truth and your predictions.  "
   ]
  },
  {
   "cell_type": "markdown",
   "metadata": {},
   "source": [
    "## Graded Cell\n",
    "\n",
    "This cell is worth 5% of the grade for this assignment."
   ]
  },
  {
   "cell_type": "code",
   "execution_count": 35,
   "metadata": {},
   "outputs": [
    {
     "data": {
      "image/png": "[encoded data removed]",
      "text/plain": [
       "<Figure size 1000x600 with 1 Axes>"
      ]
     },
     "metadata": {},
     "output_type": "display_data"
    }
   ],
   "source": [
    "import seaborn as sns\n",
    "import matplotlib.pyplot as plt\n",
    "\n",
    "# Calculating prediction errors (predicted - actual)\n",
    "errors = ridge_model_embeddings.predict(xtest) - y_test\n",
    "\n",
    "# Creating the boxplot\n",
    "plt.figure(figsize=(10, 6))\n",
    "sns.boxplot(x=y_test, y=errors)\n",
    "\n",
    "# Adding labels and title\n",
    "plt.xlabel('Ground Truth Score')\n",
    "plt.ylabel('Prediction Error (Predicted - Actual)')\n",
    "plt.title('Distribution of Prediction Errors by Ground Truth Score')\n",
    "\n",
    "# Adding a horizontal line at y=0 to show perfect predictions\n",
    "plt.axhline(y=0, color='r', linestyle='--', alpha=0.5)\n",
    "\n",
    "plt.show()"
   ]
  },
  {
   "cell_type": "markdown",
   "metadata": {},
   "source": [
    "### Q12: Compare models directly\n",
    "\n",
    "Plot a histogram of the difference between your neural model and the ground truth.\n",
    "\n",
    "Plot another histogram of the difference between your best conventional model and the ground truth.\n",
    "\n",
    "\n",
    "Does either model tend to overestimate or underestimate the true score?"
   ]
  },
  {
   "cell_type": "markdown",
   "metadata": {},
   "source": [
    "## Graded Cell\n",
    "\n",
    "This cell is worth 10% of the grade for this assignment."
   ]
  },
  {
   "cell_type": "code",
   "execution_count": 37,
   "metadata": {},
   "outputs": [
    {
     "data": {
      "image/png": "[encoded data removed]",
      "text/plain": [
       "<Figure size 1000x600 with 1 Axes>"
      ]
     },
     "metadata": {},
     "output_type": "display_data"
    },
    {
     "name": "stdout",
     "output_type": "stream",
     "text": [
      "Neural Model Mean Error: -0.117\n",
      "Conventional Model Mean Error: -0.290\n"
     ]
    }
   ],
   "source": [
    "import seaborn as sns\n",
    "import matplotlib.pyplot as plt\n",
    "import numpy as np\n",
    "\n",
    "# Calculating errors for neural model\n",
    "neural_errors = ridge_model_embeddings.predict(xtest) - y_test\n",
    "\n",
    "# Calculating errors for conventional model using the correct feature format\n",
    "conventional_xtest = vectorizer.transform(X_test)  # Transform using CountVectorizer\n",
    "conventional_errors = ridge_model.predict(conventional_xtest) - y_test\n",
    "\n",
    "plt.figure(figsize=(10, 6))\n",
    "\n",
    "# Plotting neural model errors\n",
    "sns.histplot(data=neural_errors, \n",
    "            alpha=0.5,\n",
    "            label='Neural Model Errors',\n",
    "            color='blue',\n",
    "            bins=20)\n",
    "\n",
    "# Plotting conventional model errors\n",
    "sns.histplot(data=conventional_errors,\n",
    "            alpha=0.5,\n",
    "            label='Conventional Model Errors',\n",
    "            color='red',\n",
    "            bins=20)\n",
    "\n",
    "plt.xlabel('Prediction Error (Predicted - Actual)')\n",
    "plt.ylabel('Count')\n",
    "plt.title('Distribution of Prediction Errors for Both Models')\n",
    "plt.legend()\n",
    "\n",
    "# Adding a vertical line at zero for reference\n",
    "plt.axvline(x=0, color='black', linestyle='--', alpha=0.5)\n",
    "\n",
    "plt.show()\n",
    "\n",
    "# Printing mean errors to check for bias\n",
    "print(f\"Neural Model Mean Error: {np.mean(neural_errors):.3f}\")\n",
    "print(f\"Conventional Model Mean Error: {np.mean(conventional_errors):.3f}\")"
   ]
  },
  {
   "cell_type": "markdown",
   "metadata": {},
   "source": [
    "\n",
    "\n",
    "\n",
    "\n",
    "Looking at the mean errors, both models tend to slightly underestimate the true scores, but in different ways:\n",
    "\n",
    "The neural model (Universal Sentence Encoder) has a small negative bias of -0.117, meaning it underestimates scores by about 0.1 points on average. The conventional model (CountVectorizer) has a larger negative bias of -0.29, meaning it tends to underestimate scores by almost 0.3 points on average.\n",
    "\n",
    "Not only does the neural model perform better overall (as we saw from the R² scores), but it also shows less systematic bias in its predictions. The conventional model is more pessimistic in its scoring."
   ]
  },
  {
   "cell_type": "markdown",
   "metadata": {},
   "source": [
    "### Q13: Summarize your findings\n",
    "\n",
    "Summarize your results. Which approach worked best?  Why?  Does automatic essay scoring appear feasible? How might we improve on this model?\n"
   ]
  },
  {
   "cell_type": "markdown",
   "metadata": {},
   "source": [
    "## Graded Cell\n",
    "\n",
    "This cell is worth 15% of the grade for this assignment."
   ]
  },
  {
   "cell_type": "markdown",
   "metadata": {},
   "source": [
    "\n",
    "\n",
    "\n",
    "\n",
    "**Best Approach**\n",
    "The Universal Sentence Encoder (neural model) clearly worked better than the simple word-counting method. It explained about 63% of the score variation, while the word-counting only explained 15%. This makes sense because the neural model actually understands the meaning of sentences, not just how many times words appear.\n",
    "\n",
    "**Why It Worked Better**\n",
    "The neural model was smarter about understanding language. While the word-counting model might give high scores to essays that use fancy words a lot, the neural model could understand context and meaning. This helped it make predictions that were closer to how human graders would score the essays.\n",
    "\n",
    "**Is Automatic Scoring Feasible?**\n",
    "Yes, but with some caution. Our best model got it right about 63% of the time, which is pretty good but not perfect. It could be useful as a helper tool for teachers, maybe for giving quick feedback or as a second opinion, but probably shouldn't replace human graders completely yet.\n",
    "\n",
    "**Room for Improvement**\n",
    "We could make this better in several ways. First, we could train the model on more essays to help it learn better patterns. We could also add features that look at grammar, spelling, and essay structure. Another idea would be to combine different types of models - maybe one that looks at sentence meaning (like our neural model) and another that checks writing mechanics."
   ]
  }
 ],
 "metadata": {
  "kernelspec": {
   "display_name": "Python 3",
   "language": "python",
   "name": "python3"
  },
  "language_info": {
   "codemirror_mode": {
    "name": "ipython",
    "version": 3
   },
   "file_extension": ".py",
   "mimetype": "text/x-python",
   "name": "python",
   "nbconvert_exporter": "python",
   "pygments_lexer": "ipython3",
   "version": "3.12.5"
  }
 },
 "nbformat": 4,
 "nbformat_minor": 5
}
